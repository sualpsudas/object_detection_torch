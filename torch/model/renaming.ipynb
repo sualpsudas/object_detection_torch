{
 "cells": [
  {
   "cell_type": "code",
   "execution_count": 1,
   "id": "fb1653cd",
   "metadata": {},
   "outputs": [],
   "source": [
    "import os\n",
    "import cv2"
   ]
  },
  {
   "cell_type": "code",
   "execution_count": 12,
   "id": "bb7d85e3",
   "metadata": {},
   "outputs": [],
   "source": [
    "os.chdir(os.getcwd()+\"\\\\resimler\")"
   ]
  },
  {
   "cell_type": "code",
   "execution_count": 21,
   "id": "0ea515ad",
   "metadata": {},
   "outputs": [],
   "source": [
    "c=0\n",
    "for i in os.listdir(os.getcwd()):\n",
    "    if i.endswith(\".jpg\"):\n",
    "        c+=1\n",
    "        img=cv2.imread(i)\n",
    "        cv2.imwrite(os.getcwd()[:-8]+\"yeni\\\\\"+str(c)+\".jpg\",img)"
   ]
  }
 ],
 "metadata": {
  "kernelspec": {
   "display_name": "Python 3",
   "language": "python",
   "name": "python3"
  },
  "language_info": {
   "codemirror_mode": {
    "name": "ipython",
    "version": 3
   },
   "file_extension": ".py",
   "mimetype": "text/x-python",
   "name": "python",
   "nbconvert_exporter": "python",
   "pygments_lexer": "ipython3",
   "version": "3.8.11"
  }
 },
 "nbformat": 4,
 "nbformat_minor": 5
}
